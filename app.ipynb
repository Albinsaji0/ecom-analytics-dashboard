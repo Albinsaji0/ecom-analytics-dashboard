{
 "cells": [
  {
   "cell_type": "code",
   "execution_count": null,
   "id": "cab93601-a8d7-40d4-8951-cc9fa054e92d",
   "metadata": {},
   "outputs": [],
   "source": [
    "from flask import Flask\n",
    "\n",
    "app = Flask(__name__)  \n",
    "\n",
    "@app.route('/')\n",
    "def home():\n",
    "    return \"Welcome to Dashboard\"\n",
    "\n",
    "if __name__ == \"__main__\": \n",
    "    app.run(debug=True)\n",
    "\n"
   ]
  }
 ],
 "metadata": {
  "kernelspec": {
   "display_name": "Python 3 (ipykernel)",
   "language": "python",
   "name": "python3"
  },
  "language_info": {
   "codemirror_mode": {
    "name": "ipython",
    "version": 3
   },
   "file_extension": ".py",
   "mimetype": "text/x-python",
   "name": "python",
   "nbconvert_exporter": "python",
   "pygments_lexer": "ipython3",
   "version": "3.12.4"
  }
 },
 "nbformat": 4,
 "nbformat_minor": 5
}
